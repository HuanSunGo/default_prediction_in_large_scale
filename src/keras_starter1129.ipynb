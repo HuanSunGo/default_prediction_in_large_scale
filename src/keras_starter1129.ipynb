{
  "cells": [
    {
      "cell_type": "markdown",
      "metadata": {
        "id": "Ib9FvGuy5jWF"
      },
      "source": [
        "## Environment Set UP"
      ]
    },
    {
      "cell_type": "code",
      "execution_count": null,
      "metadata": {
        "colab": {
          "base_uri": "https://localhost:8080/"
        },
        "id": "3wLcd19zveU8",
        "outputId": "becaa708-42ee-4910-8a9e-45d5d8655e9f"
      },
      "outputs": [
        {
          "name": "stdout",
          "output_type": "stream",
          "text": [
            "Looking in indexes: https://pypi.org/simple, https://us-python.pkg.dev/colab-wheels/public/simple/\n",
            "Collecting colorama\n",
            "  Downloading colorama-0.4.6-py2.py3-none-any.whl (25 kB)\n",
            "Installing collected packages: colorama\n",
            "Successfully installed colorama-0.4.6\n"
          ]
        }
      ],
      "source": [
        "!pip install colorama"
      ]
    },
    {
      "cell_type": "code",
      "execution_count": 1,
      "metadata": {
        "colab": {
          "base_uri": "https://localhost:8080/"
        },
        "id": "TRWWPwA34trV",
        "outputId": "f88f19b1-f28a-4cc6-8287-ae0a65932308"
      },
      "outputs": [
        {
          "name": "stdout",
          "output_type": "stream",
          "text": [
            "✔️ Libraries Imported!\n"
          ]
        }
      ],
      "source": [
        "# fundamental packages \n",
        "import pandas as pd\n",
        "import numpy as np\n",
        "import pickle\n",
        "from matplotlib import pyplot as plt \n",
        "from matplotlib.ticker import MaxNLocator \n",
        "import random\n",
        "import datetime\n",
        "import math \n",
        "import os \n",
        "from colorama import Fore, Back, Style \n",
        "import gc # garbage collector\n",
        "\n",
        "# sklearn packages \n",
        "from sklearn.model_selection import StratifiedGroupKFold, StratifiedGroupKFold\n",
        "from sklearn.preprocessing import StandardScaler, QuantileTransformer, OneHotEncoder\n",
        "from sklearn.metrics import roc_curve, roc_auc_score\n",
        "\n",
        "# keras tensorflow packages \n",
        "import tensorflow as tf \n",
        "from tensorflow.keras.models import Model\n",
        "from tensorflow.keras.callbacks import ReduceLROnPlateau, LearningRateScheduler,EarlyStopping\n",
        "from tensorflow.keras.layers import Dense, Input, InputLayer, Add, Concatenate, Dropout, BatchNormalization\n",
        "from tensorflow.keras.utils import plot_model \n",
        "\n",
        "INFERENCE = True\n",
        "\n",
        "print('✔️ Libraries Imported!')\n"
      ]
    },
    {
      "cell_type": "code",
      "execution_count": 2,
      "metadata": {
        "id": "75IXxWpVEffz"
      },
      "outputs": [],
      "source": [
        "# plot training history\n",
        "def plot_history(history, *, n_epochs = None, plot_lr = False, title = None, bottom = None, top = None):\n",
        "  \"\"\"\n",
        "  Function of plotting the last n_epochs of the training history,\n",
        "  plots loss and optionally val_loss and lr. \n",
        "  \"\"\"\n",
        "  plt.figure(figsize = (15, 6))\n",
        "  # here the `history` is the model result defined in `fit_model` function\n",
        "  from_epoch = 0 if n_epochs is None else max(len(history['loss']) - n_epochs, 0) \n",
        "\n",
        "  # plot training and validation losses \n",
        "  plt.plot(np.arange(from_epoch, len(history['loss'])), history['loss'][from_epoch:], label = 'Training loss')\n",
        "\n",
        "  pass "
      ]
    },
    {
      "cell_type": "markdown",
      "metadata": {
        "id": "usOXRHPXIE62"
      },
      "source": [
        "## Reading and Preprocessing the training data\n"
      ]
    },
    {
      "cell_type": "markdown",
      "metadata": {
        "id": "st7aqfeYJXEP"
      },
      "source": [
        "Here I read the parquet file as well that has already been denoised. \n",
        "\n",
        "I'm about to create few groups of features: \n",
        "- Averaged selected features over all statements of a customer\n",
        "- Minimum and maximum of the selected features over all statements of a customer \n",
        "- Selected features taken from the last statement of a customer \n",
        "\n",
        "I'm going to use __*one hot encoding*__ for the categorical features, and fill in all the missing values with 0 as Keras not taking Nan as the input. \n",
        "\n",
        "In practice, `.iloc[mask_array, columns]` needs much less RAM than the `groupby` method, and for saving more memory for  deleting the index of the training dataframe. "
      ]
    },
    {
      "cell_type": "code",
      "execution_count": 3,
      "metadata": {
        "id": "4o9zmfeCIHu5"
      },
      "outputs": [],
      "source": [
        "features_avg = ['B_11', 'B_13', 'B_14', 'B_15', 'B_16', 'B_17', 'B_18', 'B_19', 'B_2', \n",
        "                'B_20', 'B_28', 'B_29', 'B_3', 'B_33', 'B_36', 'B_37', 'B_4', 'B_42', \n",
        "                'B_5', 'B_8', 'B_9', 'D_102', 'D_103', 'D_105', 'D_111', 'D_112', 'D_113', \n",
        "                'D_115', 'D_118', 'D_119', 'D_121', 'D_124', 'D_128', 'D_129', 'D_131', \n",
        "                'D_132', 'D_133', 'D_139', 'D_140', 'D_141', 'D_143', 'D_144', 'D_145', \n",
        "                'D_39', 'D_41', 'D_42', 'D_43', 'D_44', 'D_45', 'D_46', 'D_47', 'D_48', \n",
        "                'D_49', 'D_50', 'D_51', 'D_52', 'D_56', 'D_58', 'D_62', 'D_70', 'D_71', \n",
        "                'D_72', 'D_74', 'D_75', 'D_79', 'D_81', 'D_83', 'D_84', 'D_88', 'D_91', \n",
        "                'P_2', 'P_3', 'R_1', 'R_10', 'R_11', 'R_13', 'R_18', 'R_19', 'R_2', 'R_26', \n",
        "                'R_27', 'R_28', 'R_3', 'S_11', 'S_12', 'S_22', 'S_23', 'S_24', 'S_26', \n",
        "                'S_27', 'S_5', 'S_7', 'S_8', ]\n",
        "features_min = ['B_13', 'B_14', 'B_15', 'B_16', 'B_17', 'B_19', 'B_2', 'B_20', 'B_22', \n",
        "                'B_24', 'B_27', 'B_28', 'B_29', 'B_3', 'B_33', 'B_36', 'B_4', 'B_42', \n",
        "                'B_5', 'B_9', 'D_102', 'D_103', 'D_107', 'D_109', 'D_110', 'D_111', \n",
        "                'D_112', 'D_113', 'D_115', 'D_118', 'D_119', 'D_121', 'D_122', 'D_128', \n",
        "                'D_129', 'D_132', 'D_133', 'D_139', 'D_140', 'D_141', 'D_143', 'D_144', \n",
        "                'D_145', 'D_39', 'D_41', 'D_42', 'D_45', 'D_46', 'D_48', 'D_50', 'D_51', \n",
        "                'D_53', 'D_54', 'D_55', 'D_56', 'D_58', 'D_59', 'D_60', 'D_62', 'D_70', \n",
        "                'D_71', 'D_74', 'D_75', 'D_78', 'D_79', 'D_81', 'D_83', 'D_84', 'D_86', \n",
        "                'D_88', 'D_96', 'P_2', 'P_3', 'P_4', 'R_1', 'R_11', 'R_13', 'R_17', 'R_19', \n",
        "                'R_2', 'R_27', 'R_28', 'R_4', 'R_5', 'R_8', 'S_11', 'S_12', 'S_23', 'S_25', \n",
        "                'S_3', 'S_5', 'S_7', 'S_9', ]\n",
        "features_max = ['B_1', 'B_11', 'B_13', 'B_15', 'B_16', 'B_17', 'B_18', 'B_19', 'B_2', \n",
        "                'B_22', 'B_24', 'B_27', 'B_28', 'B_29', 'B_3', 'B_31', 'B_33', 'B_36', \n",
        "                'B_4', 'B_42', 'B_5', 'B_7', 'B_9', 'D_102', 'D_103', 'D_105', 'D_109', \n",
        "                'D_110', 'D_112', 'D_113', 'D_115', 'D_121', 'D_124', 'D_128', 'D_129', \n",
        "                'D_131', 'D_139', 'D_141', 'D_144', 'D_145', 'D_39', 'D_41', 'D_42', \n",
        "                'D_43', 'D_44', 'D_45', 'D_46', 'D_47', 'D_48', 'D_50', 'D_51', 'D_52', \n",
        "                'D_53', 'D_56', 'D_58', 'D_59', 'D_60', 'D_62', 'D_70', 'D_72', 'D_74', \n",
        "                'D_75', 'D_79', 'D_81', 'D_83', 'D_84', 'D_88', 'D_89', 'P_2', 'P_3', \n",
        "                'R_1', 'R_10', 'R_11', 'R_26', 'R_28', 'R_3', 'R_4', 'R_5', 'R_7', 'R_8', \n",
        "                'S_11', 'S_12', 'S_23', 'S_25', 'S_26', 'S_27', 'S_3', 'S_5', 'S_7', 'S_8', ]\n",
        "features_last = ['B_1', 'B_11', 'B_12', 'B_13', 'B_14', 'B_16', 'B_18', 'B_19', 'B_2', \n",
        "                 'B_20', 'B_21', 'B_24', 'B_27', 'B_28', 'B_29', 'B_3', 'B_30', 'B_31', \n",
        "                 'B_33', 'B_36', 'B_37', 'B_38', 'B_39', 'B_4', 'B_40', 'B_42', 'B_5', \n",
        "                 'B_8', 'B_9', 'D_102', 'D_105', 'D_106', 'D_107', 'D_108', 'D_110', \n",
        "                 'D_111', 'D_112', 'D_113', 'D_114', 'D_115', 'D_116', 'D_117', 'D_118', \n",
        "                 'D_119', 'D_120', 'D_121', 'D_124', 'D_126', 'D_128', 'D_129', 'D_131', \n",
        "                 'D_132', 'D_133', 'D_137', 'D_138', 'D_139', 'D_140', 'D_141', 'D_142', \n",
        "                 'D_143', 'D_144', 'D_145', 'D_39', 'D_41', 'D_42', 'D_43', 'D_44', 'D_45', \n",
        "                 'D_46', 'D_47', 'D_48', 'D_49', 'D_50', 'D_51', 'D_52', 'D_53', 'D_55', \n",
        "                 'D_56', 'D_59', 'D_60', 'D_62', 'D_63', 'D_64', 'D_66', 'D_68', 'D_70', \n",
        "                 'D_71', 'D_72', 'D_73', 'D_74', 'D_75', 'D_77', 'D_78', 'D_81', 'D_82', \n",
        "                 'D_83', 'D_84', 'D_88', 'D_89', 'D_91', 'D_94', 'D_96', 'P_2', 'P_3', \n",
        "                 'P_4', 'R_1', 'R_10', 'R_11', 'R_12', 'R_13', 'R_16', 'R_17', 'R_18', \n",
        "                 'R_19', 'R_25', 'R_28', 'R_3', 'R_4', 'R_5', 'R_8', 'S_11', 'S_12', \n",
        "                 'S_23', 'S_25', 'S_26', 'S_27', 'S_3', 'S_5', 'S_7', 'S_8', 'S_9', ]\n",
        "features_categorical = ['B_30_last', 'B_38_last', 'D_114_last', 'D_116_last',\n",
        "                        'D_117_last', 'D_120_last', 'D_126_last',\n",
        "                        'D_63_last', 'D_64_last', 'D_66_last', 'D_68_last']"
      ]
    },
    {
      "cell_type": "code",
      "execution_count": 4,
      "metadata": {
        "colab": {
          "base_uri": "https://localhost:8080/"
        },
        "id": "BbMx6QA0GHrr",
        "outputId": "2988521c-271a-4648-d69d-2fc9da20db64"
      },
      "outputs": [
        {
          "ename": "ModuleNotFoundError",
          "evalue": "No module named 'google.colab'",
          "output_type": "error",
          "traceback": [
            "\u001b[1;31m---------------------------------------------------------------------------\u001b[0m",
            "\u001b[1;31mModuleNotFoundError\u001b[0m                       Traceback (most recent call last)",
            "\u001b[1;32mc:\\Users\\hs324\\OneDrive\\Desktop\\Private\\08_SomeNewCode\\08_IndepentProject\\default_prediction_large_scale\\src\\keras_starter1129.ipynb Cell 8\u001b[0m in \u001b[0;36m<module>\u001b[1;34m\u001b[0m\n\u001b[0;32m      <a href='vscode-notebook-cell:/c%3A/Users/hs324/OneDrive/Desktop/Private/08_SomeNewCode/08_IndepentProject/default_prediction_large_scale/src/keras_starter1129.ipynb#X10sZmlsZQ%3D%3D?line=0'>1</a>\u001b[0m \u001b[39m# Load the Drive helper and mount\u001b[39;00m\n\u001b[1;32m----> <a href='vscode-notebook-cell:/c%3A/Users/hs324/OneDrive/Desktop/Private/08_SomeNewCode/08_IndepentProject/default_prediction_large_scale/src/keras_starter1129.ipynb#X10sZmlsZQ%3D%3D?line=1'>2</a>\u001b[0m \u001b[39mfrom\u001b[39;00m \u001b[39mgoogle\u001b[39;00m\u001b[39m.\u001b[39;00m\u001b[39mcolab\u001b[39;00m \u001b[39mimport\u001b[39;00m drive\n\u001b[0;32m      <a href='vscode-notebook-cell:/c%3A/Users/hs324/OneDrive/Desktop/Private/08_SomeNewCode/08_IndepentProject/default_prediction_large_scale/src/keras_starter1129.ipynb#X10sZmlsZQ%3D%3D?line=3'>4</a>\u001b[0m \u001b[39m# This will prompt for authorization.\u001b[39;00m\n\u001b[0;32m      <a href='vscode-notebook-cell:/c%3A/Users/hs324/OneDrive/Desktop/Private/08_SomeNewCode/08_IndepentProject/default_prediction_large_scale/src/keras_starter1129.ipynb#X10sZmlsZQ%3D%3D?line=4'>5</a>\u001b[0m drive\u001b[39m.\u001b[39mmount(\u001b[39m'\u001b[39m\u001b[39m/content/drive\u001b[39m\u001b[39m'\u001b[39m)\n",
            "\u001b[1;31mModuleNotFoundError\u001b[0m: No module named 'google.colab'"
          ]
        }
      ],
      "source": [
        "# Load the Drive helper and mount\n",
        "from google.colab import drive\n",
        "\n",
        "# This will prompt for authorization.\n",
        "drive.mount('/content/drive')"
      ]
    },
    {
      "cell_type": "code",
      "execution_count": null,
      "metadata": {
        "colab": {
          "base_uri": "https://localhost:8080/"
        },
        "id": "jPJuE3oWG_K9",
        "outputId": "0d8e2820-b8d1-47d8-83ee-42586b993608"
      },
      "outputs": [
        {
          "name": "stdout",
          "output_type": "stream",
          "text": [
            " data   model  'Pytorch Tutorial '\n",
            "/content/drive/My Drive/Colab Notebooks/model\n"
          ]
        }
      ],
      "source": [
        "# check the folder structure\n",
        "!ls \"/content/drive/My Drive/Colab Notebooks\"\n",
        "\n",
        "# change the working directory\n",
        "os.chdir(\"/content/drive/My Drive/Colab Notebooks/model\")\n",
        "\n",
        "# current working directory\n",
        "!pwd"
      ]
    },
    {
      "cell_type": "code",
      "execution_count": null,
      "metadata": {
        "colab": {
          "base_uri": "https://localhost:8080/"
        },
        "id": "-vcJitxfaDPt",
        "outputId": "89c60318-871c-4ed5-ae2d-ef634937f78d"
      },
      "outputs": [
        {
          "name": "stdout",
          "output_type": "stream",
          "text": [
            "Read train\n",
            "Computed avg train\n",
            "Computed max train\n",
            "Computed min train\n",
            "Computed last train\n",
            "Computed categorical train\n",
            "train shape: (458913, 435)\n",
            "Read test\n",
            "Computed avg test\n",
            "Computed max test\n",
            "Computed min test\n",
            "Computed last test\n",
            "Computed categorical test\n",
            "test shape: (924621, 407)\n",
            "CPU times: user 6min 9s, sys: 51.9 s, total: 7min 1s\n",
            "Wall time: 6min 37s\n"
          ]
        }
      ],
      "source": [
        "%%time\n",
        "\n",
        "for i in ['train','test'] if INFERENCE else ['train']:\n",
        "    df = pd. read_parquet(f'../data/{i}.parquet') \n",
        "    cid = pd.Categorical(df.pop('customer_ID'), ordered = True)\n",
        "    last = (cid != np.roll(cid, -1)) # mask for last statement of every customer \n",
        "    if 'target' in df.columns:\n",
        "        df.drop(columns = ['target'], inplace = True)\n",
        "    print('Read', i)\n",
        "    gc.collect() # performs a blocking garbage collection of all generations\n",
        "    \n",
        "    df_avg = (df\n",
        "                .groupby(cid)\n",
        "                .mean()[features_avg]\n",
        "                .rename(columns = {f: f\"{f}_avg\" for f in features_avg})\n",
        "                )\n",
        "    print('Computed avg', i )\n",
        "    gc.collect()\n",
        "\n",
        "    df_max = (df\n",
        "                .groupby(cid)\n",
        "                .max()[features_max]\n",
        "                .rename(columns = {f: f\"{f}_max\" for f in features_max})\n",
        "                )\n",
        "    print('Computed max', i)\n",
        "    gc.collect()\n",
        "\n",
        "    df_min = (df\n",
        "              .groupby(cid)\n",
        "              .min()[features_min]\n",
        "              .rename(columns={f: f\"{f}_min\" for f in features_min})\n",
        "             )\n",
        "    print('Computed min', i)\n",
        "    gc.collect()\n",
        "\n",
        "\n",
        "    df_last = (df.loc[last, features_last]\n",
        "               .rename(columns={f: f\"{f}_last\" for f in features_last})\n",
        "               .set_index(np.asarray(cid[last]))\n",
        "              )\n",
        "    df = None # we no longer need the original data\n",
        "    print('Computed last', i)\n",
        "\n",
        "    df_categorical = df_last[features_categorical].astype(object)\n",
        "    features_not_cat = [f for f in df_last.columns if f not in features_categorical]\n",
        "    if i == 'train':\n",
        "        ohe = OneHotEncoder(drop = 'first', sparse = False, \n",
        "                            dtype = np.float32, handle_unknown = 'ignore')\n",
        "        ohe.fit(df_categorical)\n",
        "        # where is this from? \n",
        "        with open('ohe.pickle', 'wb') as f:pickle.dump(ohe, f)\n",
        "        df_categorical = pd.DataFrame(ohe.transform(df_categorical).astype(np.float16),\n",
        "                                    index = df_categorical.index).rename(columns = str)\n",
        "    print('Computed categorical', i)\n",
        "\n",
        "    df = pd.concat([df_last[features_not_cat], df_categorical, df_avg, df_min, df_max], axis=1)\n",
        "    \n",
        "    # Impute missing values\n",
        "    df.fillna(value=0, inplace=True)\n",
        "    \n",
        "    del df_avg, df_max, df_min, df_last, df_categorical, cid, last, features_not_cat\n",
        "\n",
        "    print(f\"{i} shape: {df.shape}\")\n",
        "    if i == 'train': \n",
        "        # free the memory \n",
        "        df.reset_index(drop = True, inplace = True) # free the memory \n",
        "        df.to_feather('train_processed.ftr')\n",
        "        df = None \n",
        "        gc.collect()\n"
      ]
    },
    {
      "cell_type": "code",
      "execution_count": null,
      "metadata": {
        "colab": {
          "base_uri": "https://localhost:8080/"
        },
        "id": "7gkwkJ8naDPu",
        "outputId": "283f2589-486f-436b-96ef-b2aab71d2834"
      },
      "outputs": [
        {
          "name": "stdout",
          "output_type": "stream",
          "text": [
            "target shape:(458913, 2)\n"
          ]
        }
      ],
      "source": [
        "train = pd.read_feather('train_processed.ftr')\n",
        "target = pd.read_csv('../data/train_labels.csv')\n",
        "print(f'target shape:{target.shape}')"
      ]
    },
    {
      "cell_type": "markdown",
      "metadata": {
        "id": "CNsHymadaDPv"
      },
      "source": [
        "## Model Architecture"
      ]
    },
    {
      "cell_type": "markdown",
      "metadata": {
        "id": "yjrOk8IWaDPw"
      },
      "source": [
        "For the neural network model, my rule of thumb is to start with one hidden layer, then gradually add more hidden layers, and when the network seems to overfit or diverges, I'll insert a Dropout and/or a connection which will skips two layers. <br><br>\n",
        "The final model has four hidden layers, and is enriched by a skip connection and a Dropout layer. "
      ]
    },
    {
      "cell_type": "code",
      "execution_count": null,
      "metadata": {
        "id": "iy_ZpaxqaDPw"
      },
      "outputs": [],
      "source": [
        "LR_START = 0.01\n",
        "features = [f for f in train.columns if f != 'target' and f != 'customer_ID']"
      ]
    },
    {
      "cell_type": "code",
      "execution_count": null,
      "metadata": {
        "id": "ssfRfn8haDPw"
      },
      "outputs": [],
      "source": [
        "def keras_model(n_inputs = len(features)):\n",
        "    \"\"\"\n",
        "    Function for a sequential neural network with a skip connection. \n",
        "    \n",
        "    Returns a complicated instance of tensorflows.keras.models.Model\n",
        "    \"\"\"\n",
        "\n",
        "    activation = 'swish' # why use swish as the activation function here? \n",
        "    reg = 4e-4 # what is `reg` here?\n",
        "    inputs = Input(shape = (n_inputs,))\n",
        "\n",
        "    # build neural network layers \n",
        "    x0 = Dense (256, kernel_regularizer = tf.keras.regularizers.l2(reg),\n",
        "            activation = activation,\n",
        "            )(inputs)\n",
        "    x = Dense (64, kernel_regularizer = tf.keras.regularizers.l2(reg),\n",
        "            activation = activation,\n",
        "            )(x0)\n",
        "    x = Concatenate()([ x , x0])\n",
        "    x = Dropout(0.1)(x) # how is the dropout work, and does the sequence matters? \n",
        "    x = Dense(16, kernel_regularizer = tf.keras.regularizers.l2(reg),\n",
        "            activation = activation,\n",
        "            )(x)\n",
        "    x = Dense (1, #kernel_regularizer = tf.keras.regularizers.l2(reg),\n",
        "            activation = 'sigmoid',\n",
        "            )(x) # meaning of the numbers in dense layer? \n",
        "    \n",
        "    model = Model(inputs, x)\n",
        "    model.compile(optimizer = tf.keras.optimizers.Adam(learning_rate= LR_START),\n",
        "                loss = tf.keras.losses.BinaryCrossentropy()) # rewind the crossentropy\n",
        "    \n",
        "    return model "
      ]
    },
    {
      "cell_type": "code",
      "execution_count": null,
      "metadata": {
        "colab": {
          "base_uri": "https://localhost:8080/",
          "height": 754
        },
        "id": "k44Z941raDPx",
        "outputId": "98414300-4358-433b-8bc1-eff4e0ab151e"
      },
      "outputs": [
        {
          "data": {
            "image/png": "[encoded data removed]",
            "text/plain": [
              "<IPython.core.display.Image object>"
            ]
          },
          "execution_count": 22,
          "metadata": {},
          "output_type": "execute_result"
        }
      ],
      "source": [
        "plot_model(keras_model(), \n",
        "        show_layer_names = False,\n",
        "        show_shapes = True)"
      ]
    },
    {
      "cell_type": "markdown",
      "metadata": {
        "id": "rse6vFVXaDPx"
      },
      "source": [
        "### Cross - Validation \n",
        "I'll use a standar validation loop, in which we scale the data and train the model. Since the dataset is imbalance, we'll use a StratifiedKFold because of it. <br>\n",
        "\n",
        "And while training the neural networks with Stochastic or Mini Batch Gradient Descent and a constant learning rate, the algorithm usually converges towards minima in a noisy manner and ended up oscillating far away from actual minima. To overcome this scenario, there's a proposal brought up by some researchers that the decayed learning rate over time will help the network converge to a local minimun and avoid oscillation. It starts training the network with a large learning rate, and gradually decaying it until local minima is secured.\n",
        "\n",
        "The below first image shows that with a constant learning rate, after certain iterations, the steps towards the minima is getting really unclear and jump around a lot, the result is not actually converges. \n",
        "\n",
        "In the second figure that after applying the decaying learning rate(green line), we can see that the ending part of the learning rate is getting smaller and smaller, and ends up oscillating in a faster dropping direction around the minima and heads to it. "
      ]
    },
    {
      "cell_type": "code",
      "execution_count": null,
      "metadata": {
        "id": "4PN-hYkaaDPy"
      },
      "outputs": [],
      "source": [
        "# set up the parameters \n",
        "ONLY_FIRST_FOLD = False \n",
        "EPOCHS_EXPONENTIALDECAY = 100 \n",
        "VERBOSE = 0 # set to 0 for less output, or to 2 for more output \n",
        "LR_END = 1e-5 # learning rate at the end of training \n",
        "CYCLES = 1 \n",
        "EPOCHS = 200 # how to choose the epochs? \n",
        "DIAGRAMS = True \n",
        "USE_PLATEAU = False # set to True for early stopping, or to False for exponential learning rate decay \n",
        "BATCH_SIZE = 2048 \n",
        "\n",
        "np.random.seed(1)\n",
        "random.seed(1) \n",
        "tf.random.set_seed(1)"
      ]
    },
    {
      "cell_type": "code",
      "execution_count": null,
      "metadata": {
        "id": "nM1J7ZanaDPy"
      },
      "outputs": [],
      "source": [
        "def exponential_decay(epoch): \n",
        "    \"\"\"\n",
        "    The helper function for the learning rate's exponentially decay.\n",
        "    -------------------\n",
        "    v decays from e^a to 1 in every cycle\n",
        "    w decays from 1 to 0 in every cycle\n",
        "    epoch == 0                  -> w = 1 (first epoch of cycle)\n",
        "    epoch == epochs_per_cycle-1 -> w = 0 (last epoch of cycle)\n",
        "    higher a                    -> decay starts with a steeper decline\n",
        "    \"\"\"\n",
        "    a = 3\n",
        "    epochs_per_cycle = EPOCHS // CYCLES\n",
        "    epoch_in_cycle = epoch % epochs_per_cycle\n",
        "    if epochs_per_cycle > 1:\n",
        "        v = math.exp(a * (1 - epoch_in_cycle / (epochs_per_cycle-1)))\n",
        "        w = (v - 1) / (math.exp(a) - 1)\n",
        "    else:\n",
        "        w = 1\n",
        "    return w * LR_START + (1 - w) * LR_END    \n"
      ]
    },
    {
      "cell_type": "code",
      "execution_count": null,
      "metadata": {
        "id": "FWeHjv7h_y4A"
      },
      "outputs": [],
      "source": [
        "# From https://www.kaggle.com/code/inversion/amex-competition-metric-python\n",
        "def amex_metric(y_true, y_pred, return_components=False) -> float:\n",
        "    \"\"\"Amex metric for ndarrays\"\"\"\n",
        "    def top_four_percent_captured(df) -> float:\n",
        "        \"\"\"Corresponds to the recall for a threshold of 4 %\"\"\"\n",
        "        df['weight'] = df['target'].apply(lambda x: 20 if x==0 else 1)\n",
        "        four_pct_cutoff = int(0.04 * df['weight'].sum())\n",
        "        df['weight_cumsum'] = df['weight'].cumsum()\n",
        "        df_cutoff = df.loc[df['weight_cumsum'] <= four_pct_cutoff]\n",
        "        return (df_cutoff['target'] == 1).sum() / (df['target'] == 1).sum()\n",
        "        \n",
        "    def weighted_gini(df) -> float:\n",
        "        df['weight'] = df['target'].apply(lambda x: 20 if x==0 else 1)\n",
        "        df['random'] = (df['weight'] / df['weight'].sum()).cumsum()\n",
        "        total_pos = (df['target'] * df['weight']).sum()\n",
        "        df['cum_pos_found'] = (df['target'] * df['weight']).cumsum()\n",
        "        df['lorentz'] = df['cum_pos_found'] / total_pos\n",
        "        df['gini'] = (df['lorentz'] - df['random']) * df['weight']\n",
        "        return df['gini'].sum()\n",
        "\n",
        "    def normalized_weighted_gini(df) -> float:\n",
        "        \"\"\"Corresponds to 2 * AUC - 1\"\"\"\n",
        "        df2 = pd.DataFrame({'target': df.target, 'prediction': df.target})\n",
        "        df2.sort_values('prediction', ascending=False, inplace=True)\n",
        "        return weighted_gini(df) / weighted_gini(df2)\n",
        "\n",
        "    df = pd.DataFrame({'target': y_true.ravel(), 'prediction': y_pred.ravel()})\n",
        "    df.sort_values('prediction', ascending=False, inplace=True)\n",
        "    g = normalized_weighted_gini(df)\n",
        "    d = top_four_percent_captured(df)\n",
        "\n",
        "    if return_components: return g, d, 0.5 * (g + d)\n",
        "    return 0.5 * (g + d)"
      ]
    },
    {
      "cell_type": "code",
      "execution_count": null,
      "metadata": {
        "colab": {
          "base_uri": "https://localhost:8080/",
          "height": 134
        },
        "id": "X-rS6yn9aDPy",
        "outputId": "8795bdc3-9e03-4224-f4f3-be7ea964b5a1"
      },
      "outputs": [
        {
          "ename": "SyntaxError",
          "evalue": "ignored",
          "output_type": "error",
          "traceback": [
            "\u001b[0;36m  File \u001b[0;32m\"<ipython-input-17-a7019d6a08d9>\"\u001b[0;36m, line \u001b[0;32m64\u001b[0m\n\u001b[0;31m    print(f'Training loss:{history_list[-1]['loss'][-1]:.4f}')\u001b[0m\n\u001b[0m                                                ^\u001b[0m\n\u001b[0;31mSyntaxError\u001b[0m\u001b[0;31m:\u001b[0m invalid syntax\n"
          ]
        }
      ],
      "source": [
        "def fit_model ( X_tr, y_tr, X_va = None, y_va = None, fold = 0, run = 0):\n",
        "    \"\"\"\n",
        "    Scale the data, fit a model, plot the training history and optionally validate the model.\n",
        "    \n",
        "    Saves a trained instance of tensorflow.keras.models.Model.\n",
        "    \n",
        "    As a side effect, updates y_va_pred, history_list, y_pred_list and score_list.\n",
        "    \"\"\"\n",
        "\n",
        "    global y_va_pred \n",
        "    gc.collect()\n",
        "    start_time = datetime.datetime.now()\n",
        "\n",
        "    scaler = StandardScaler()\n",
        "    X_tr = scaler.fit_transform(X_tr)\n",
        "\n",
        "    if X_va is not None: \n",
        "        X_va = scaler.transform(X_va)\n",
        "        validation_data = (X_va, y_va)\n",
        "    else:\n",
        "        validation_data = None \n",
        "    \n",
        "    #define the learning rate schedule and EarlyStopping \n",
        "    if USE_PLATEAU and X_va is not None: # use early stopping \n",
        "        epochs = EPOCHS \n",
        "        lr = ReduceLROnPlateau(monitor = 'val_loss', # there's a question asking about the implementation of this question \n",
        "                            factor = 0.7, \n",
        "                            patience = 4, \n",
        "                            verbose = VERBOSE\n",
        "\n",
        "        )\n",
        "        es = EarlyStopping(monitor = 'val_loss',\n",
        "                        patience = 12,\n",
        "                        verbose = 1,\n",
        "                        mode = 'min',\n",
        "                        restore_best_weights = True)\n",
        "        callbacks = [lr, es, tf.keras.callbacks.TerminateOnNaN]\n",
        "    \n",
        "    else: \n",
        "        #use exponential learning rate decay rather than early stopping \n",
        "        epochs = EPOCHS_EXPONENTIALDECAY\n",
        "        lr = LearningRateScheduler(exponential_decay, verbose = 0)\n",
        "        callbacks = [lr, tf.keras.callbacks.TerminateOnNaN()]\n",
        "\n",
        "    #construct and compile the model \n",
        "    model = keras_model(X_tr.shape[1])\n",
        "\n",
        "    #train the model \n",
        "    history = model.fit(X_tr, \n",
        "                        y_tr,\n",
        "                        validation_data = validation_data,\n",
        "                        epochs = epochs,\n",
        "                        verbose = VERBOSE,\n",
        "                        batch_size = BATCH_SIZE,\n",
        "                        shuffle = True,\n",
        "                        callbacks = callbacks)\n",
        "    del X_tr, y_tr\n",
        "\n",
        "    with open(f'scaler_{fold}.pickle','wb') as f:pickle.dump(scaler,f)\n",
        "    model.save(f'model_{fold}')\n",
        "    history_list.append(history.history)\n",
        "    callbacks, es, lr, history = None, None, None, None\n",
        "\n",
        "    if X_va is None: \n",
        "        print(f\"Training loss: {history_list[-1]['loss'][-1]:.4f}\")\n",
        "    else: \n",
        "        lastloss = f\"Training loss: {history_list[-1]['loss'][-1]:.4f} | Val loss: {history_list[-1]['val_loss'][-1]:.4f}\"\n",
        "\n",
        "        # inference for validation \n",
        "        y_va_pred = model.predict(X_va, batch_size = len(X_va), verbose = 0).ravel()\n",
        "\n",
        "        # evaluation for execution time, loss and metrics \n",
        "        score = amex_metric(y_va, y_va_pred)\n",
        "\n",
        "        print(f\"{Fore.GREEN}{Style.BRIGHT}Fold {run}.{fold} | {str(datetime.datetime.now() - start_time)[-12:-7]}\"\n",
        "              f\" | {len(history_list[-1]['loss']):3} ep\"\n",
        "              f\" | {lastloss} | Score: {score:.5f}{Style.RESET_ALL}\")\n",
        "        score_list.append(score)\n",
        "        \n",
        "        if DIAGRAMS and fold == 0 and run == 0:\n",
        "            # plot training history\n",
        "            plot_history(history_list[-1], \n",
        "                         title=f\"Learning curve\",\n",
        "                         plot_lr=True)\n",
        "\n",
        "            # plot prediction histogram\n",
        "            plt.figure(figsize=(16, 5))\n",
        "            plt.hist(y_va_pred[y_va == 0], bins=np.linspace(0, 1, 21),\n",
        "                     alpha=0.5, density=True)\n",
        "            plt.hist(y_va_pred[y_va == 1], bins=np.linspace(0, 1, 21),\n",
        "                     alpha=0.5, density=True)\n",
        "            plt.xlabel('y_pred')\n",
        "            plt.ylabel('density')\n",
        "            plt.title('OOF Prediction Histogram')\n",
        "            plt.show()\n",
        "\n",
        "        # scale and predict\n",
        "        y_pred_list.append(model.predict(scaler.transform(test), batch_size=128*1024, verbose=0).ravel())\n",
        "        with np.printoptions(linewidth=150, precision=2, suppress=True):\n",
        "            print(f\"Test pred {fold}\", y_pred_list[-1])\n",
        "\n",
        "\n",
        "print(f\"{len(features)} features\")\n",
        "history_list = []\n",
        "score_list = []\n",
        "y_pred_list = []\n",
        "kf = StratifiedKFold(n_splits=10)\n",
        "for fold, (idx_tr, idx_va) in enumerate(kf.split(train, target)):\n",
        "    y_va = target[idx_va]\n",
        "    tf.keras.backend.clear_session()\n",
        "    gc.collect()\n",
        "    fit_model(train.iloc[idx_tr][features], target[idx_tr], \n",
        "              train.iloc[idx_va][features], y_va, fold=fold)\n",
        "    if ONLY_FIRST_FOLD: break # we only need the first fold\n",
        "\n",
        "print(f\"{Fore.GREEN}{Style.BRIGHT}OOF Score:                       {np.mean(score_list):.5f}{Style.RESET_ALL}\")\n",
        "     \n"
      ]
    }
  ],
  "metadata": {
    "accelerator": "GPU",
    "colab": {
      "machine_shape": "hm",
      "provenance": []
    },
    "gpuClass": "standard",
    "kernelspec": {
      "display_name": "Python 3.9.0 64-bit ('3.9.0')",
      "language": "python",
      "name": "python3"
    },
    "language_info": {
      "codemirror_mode": {
        "name": "ipython",
        "version": 3
      },
      "file_extension": ".py",
      "mimetype": "text/x-python",
      "name": "python",
      "nbconvert_exporter": "python",
      "pygments_lexer": "ipython3",
      "version": "3.9.0"
    },
    "vscode": {
      "interpreter": {
        "hash": "58c21a2341242efc0953e9856321acb0a34bb47bd9f06e4bbe32894437b3eb6a"
      }
    }
  },
  "nbformat": 4,
  "nbformat_minor": 0
}
